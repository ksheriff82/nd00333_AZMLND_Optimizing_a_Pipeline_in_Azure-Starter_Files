{
 "cells": [
  {
   "cell_type": "code",
   "execution_count": 2,
   "id": "4ca79a7b",
   "metadata": {},
   "outputs": [
    {
     "name": "stdout",
     "output_type": "stream",
     "text": [
      "Workspace name: quick-starts-ws-238817\n",
      "Azure region: southcentralus\n",
      "Subscription id: 510b94ba-e453-4417-988b-fbdc37b55ca7\n",
      "Resource group: aml-quickstarts-238817\n"
     ]
    }
   ],
   "source": [
    "from azureml.core import Workspace, Experiment\n",
    "\n",
    "ws = Workspace.from_config()\n",
    "exp = Experiment(workspace=ws, name=\"udacity-project\")\n",
    "\n",
    "print('Workspace name: ' + ws.name, \n",
    "      'Azure region: ' + ws.location, \n",
    "      'Subscription id: ' + ws.subscription_id, \n",
    "      'Resource group: ' + ws.resource_group, sep = '\\n')\n",
    "\n",
    "run = exp.start_logging()"
   ]
  },
  {
   "cell_type": "code",
   "execution_count": 13,
   "id": "f28ea302",
   "metadata": {},
   "outputs": [
    {
     "name": "stdout",
     "output_type": "stream",
     "text": [
      "InProgress..\n",
      "SucceededProvisioning operation finished, operation \"Succeeded\"\n",
      "Succeeded\n",
      "AmlCompute wait for completion finished\n",
      "\n",
      "Minimum number of nodes requested have been provisioned\n"
     ]
    }
   ],
   "source": [
    "from azureml.core.compute import ComputeTarget, AmlCompute\n",
    "\n",
    "cluster_name = \"Udacity-Project-Cluster2\"\n",
    "compute_config = AmlCompute.provisioning_configuration(vm_size='STANDARD_D2_V2',\n",
    "                                                              max_nodes=4);\n",
    "cpu_cluster = ComputeTarget.create(ws, cluster_name, compute_config)\n",
    "\n",
    "cpu_cluster.wait_for_completion(show_output=True)\n",
    "\n"
   ]
  },
  {
   "cell_type": "code",
   "execution_count": 21,
   "id": "d72acc9d",
   "metadata": {},
   "outputs": [
    {
     "ename": "TrainingException",
     "evalue": "TrainingException:\n\tMessage: Exception occurred while creating the HyperDrive run: [Operation returned an invalid status code 'udacity-project Error : User Error occured while deserializing input, JsonReaderException was thrown']. Please try again later.\n\tInnerException Operation returned an invalid status code 'udacity-project Error : User Error occured while deserializing input, JsonReaderException was thrown'\n\tErrorResponse \n{\n    \"error\": {\n        \"code\": \"SystemError\",\n        \"message\": \"Exception occurred while creating the HyperDrive run: [Operation returned an invalid status code 'udacity-project Error : User Error occured while deserializing input, JsonReaderException was thrown']. Please try again later.\",\n        \"inner_error\": {\n            \"code\": \"ClientError\",\n            \"inner_error\": {\n                \"code\": \"HyperDriveTrainingError\"\n            }\n        }\n    }\n}",
     "output_type": "error",
     "traceback": [
      "\u001b[0;31m---------------------------------------------------------------------------\u001b[0m",
      "\u001b[0;31mTrainingException\u001b[0m                         Traceback (most recent call last)",
      "Cell \u001b[0;32mIn[21], line 30\u001b[0m\n\u001b[1;32m     26\u001b[0m src\u001b[38;5;241m=\u001b[39mScriptRunConfig(source_directory\u001b[38;5;241m=\u001b[39m\u001b[38;5;124m\"\u001b[39m\u001b[38;5;124m./\u001b[39m\u001b[38;5;124m\"\u001b[39m,  script\u001b[38;5;241m=\u001b[39m\u001b[38;5;124m\"\u001b[39m\u001b[38;5;124mtrain.py\u001b[39m\u001b[38;5;124m\"\u001b[39m, arguments\u001b[38;5;241m=\u001b[39m\u001b[38;5;124m\"\u001b[39m\u001b[38;5;124m--C 1.0 --max_iter 100\u001b[39m\u001b[38;5;124m\"\u001b[39m, run_config\u001b[38;5;241m=\u001b[39m\u001b[38;5;28;01mNone\u001b[39;00m, _telemetry_values\u001b[38;5;241m=\u001b[39m\u001b[38;5;28;01mNone\u001b[39;00m, compute_target\u001b[38;5;241m=\u001b[39mcpu_cluster, environment\u001b[38;5;241m=\u001b[39msklearn_env, distributed_job_config\u001b[38;5;241m=\u001b[39m\u001b[38;5;28;01mNone\u001b[39;00m, resume_from\u001b[38;5;241m=\u001b[39m\u001b[38;5;28;01mNone\u001b[39;00m, max_run_duration_seconds\u001b[38;5;241m=\u001b[39m\u001b[38;5;241m2592000\u001b[39m, command\u001b[38;5;241m=\u001b[39m\u001b[38;5;28;01mNone\u001b[39;00m, docker_runtime_config\u001b[38;5;241m=\u001b[39m\u001b[38;5;28;01mNone\u001b[39;00m)\n\u001b[1;32m     28\u001b[0m hyperdrive_config  \u001b[38;5;241m=\u001b[39m HyperDriveConfig(hyperparameter_sampling \u001b[38;5;241m=\u001b[39m ps , primary_metric_name \u001b[38;5;241m=\u001b[39m \u001b[38;5;124m\"\u001b[39m\u001b[38;5;124mAccuracy\u001b[39m\u001b[38;5;124m\"\u001b[39m, primary_metric_goal \u001b[38;5;241m=\u001b[39m PrimaryMetricGoal\u001b[38;5;241m.\u001b[39mMAXIMIZE, max_total_runs\u001b[38;5;241m=\u001b[39m\u001b[38;5;241m20\u001b[39m, max_concurrent_runs\u001b[38;5;241m=\u001b[39m\u001b[38;5;241m2\u001b[39m, max_duration_minutes\u001b[38;5;241m=\u001b[39m\u001b[38;5;241m10080\u001b[39m, policy\u001b[38;5;241m=\u001b[39mpolicy, estimator\u001b[38;5;241m=\u001b[39m\u001b[38;5;28;01mNone\u001b[39;00m, run_config\u001b[38;5;241m=\u001b[39msrc, resume_from\u001b[38;5;241m=\u001b[39m\u001b[38;5;28;01mNone\u001b[39;00m, resume_child_runs\u001b[38;5;241m=\u001b[39m\u001b[38;5;28;01mNone\u001b[39;00m, pipeline\u001b[38;5;241m=\u001b[39m\u001b[38;5;28;01mNone\u001b[39;00m, debug_flag\u001b[38;5;241m=\u001b[39m\u001b[38;5;28;01mNone\u001b[39;00m, custom_run_id\u001b[38;5;241m=\u001b[39m\u001b[38;5;28;01mNone\u001b[39;00m)\n\u001b[0;32m---> 30\u001b[0m hdr\u001b[38;5;241m=\u001b[39m \u001b[43mexp\u001b[49m\u001b[38;5;241;43m.\u001b[39;49m\u001b[43msubmit\u001b[49m\u001b[43m(\u001b[49m\u001b[43mconfig\u001b[49m\u001b[38;5;241;43m=\u001b[39;49m\u001b[43mhyperdrive_config\u001b[49m\u001b[43m)\u001b[49m\n\u001b[1;32m     32\u001b[0m RunDetails(hdr)\u001b[38;5;241m.\u001b[39mshow()\n",
      "File \u001b[0;32m/anaconda/envs/azureml_py38/lib/python3.8/site-packages/azureml/core/experiment.py:238\u001b[0m, in \u001b[0;36mExperiment.submit\u001b[0;34m(self, config, tags, **kwargs)\u001b[0m\n\u001b[1;32m    236\u001b[0m submit_func \u001b[38;5;241m=\u001b[39m get_experiment_submit(config)\n\u001b[1;32m    237\u001b[0m \u001b[38;5;28;01mwith\u001b[39;00m \u001b[38;5;28mself\u001b[39m\u001b[38;5;241m.\u001b[39m_log_context(\u001b[38;5;124m\"\u001b[39m\u001b[38;5;124msubmit config \u001b[39m\u001b[38;5;132;01m{}\u001b[39;00m\u001b[38;5;124m\"\u001b[39m\u001b[38;5;241m.\u001b[39mformat(config\u001b[38;5;241m.\u001b[39m\u001b[38;5;18m__class__\u001b[39m\u001b[38;5;241m.\u001b[39m\u001b[38;5;18m__name__\u001b[39m)):\n\u001b[0;32m--> 238\u001b[0m     run \u001b[38;5;241m=\u001b[39m \u001b[43msubmit_func\u001b[49m\u001b[43m(\u001b[49m\u001b[43mconfig\u001b[49m\u001b[43m,\u001b[49m\u001b[43m \u001b[49m\u001b[38;5;28;43mself\u001b[39;49m\u001b[38;5;241;43m.\u001b[39;49m\u001b[43mworkspace\u001b[49m\u001b[43m,\u001b[49m\u001b[43m \u001b[49m\u001b[38;5;28;43mself\u001b[39;49m\u001b[38;5;241;43m.\u001b[39;49m\u001b[43mname\u001b[49m\u001b[43m,\u001b[49m\u001b[43m \u001b[49m\u001b[38;5;241;43m*\u001b[39;49m\u001b[38;5;241;43m*\u001b[39;49m\u001b[43mkwargs\u001b[49m\u001b[43m)\u001b[49m\n\u001b[1;32m    239\u001b[0m \u001b[38;5;28;01mif\u001b[39;00m tags \u001b[38;5;129;01mis\u001b[39;00m \u001b[38;5;129;01mnot\u001b[39;00m \u001b[38;5;28;01mNone\u001b[39;00m:\n\u001b[1;32m    240\u001b[0m     run\u001b[38;5;241m.\u001b[39mset_tags(tags)\n",
      "File \u001b[0;32m/anaconda/envs/azureml_py38/lib/python3.8/site-packages/azureml/train/hyperdrive/_search.py:171\u001b[0m, in \u001b[0;36msearch\u001b[0;34m(hyperdrive_config, workspace, experiment_name, **kwargs)\u001b[0m\n\u001b[1;32m    167\u001b[0m         \u001b[38;5;28;01mreturn\u001b[39;00m HyperDriveRun(experiment\u001b[38;5;241m=\u001b[39mexperiment,\n\u001b[1;32m    168\u001b[0m                              hyperdrive_config\u001b[38;5;241m=\u001b[39mhyperdrive_config,\n\u001b[1;32m    169\u001b[0m                              run_id\u001b[38;5;241m=\u001b[39mparent_run_id)\n\u001b[1;32m    170\u001b[0m \u001b[38;5;28;01mexcept\u001b[39;00m ErrorResponseException \u001b[38;5;28;01mas\u001b[39;00m e:\n\u001b[0;32m--> 171\u001b[0m     \u001b[38;5;28;01mraise\u001b[39;00m TrainingException\u001b[38;5;241m.\u001b[39m_with_error(\n\u001b[1;32m    172\u001b[0m         AzureMLError\u001b[38;5;241m.\u001b[39mcreate(\n\u001b[1;32m    173\u001b[0m             HyperDriveTrainingError, err\u001b[38;5;241m=\u001b[39m\u001b[38;5;28mstr\u001b[39m(e)\n\u001b[1;32m    174\u001b[0m         ), inner_exception\u001b[38;5;241m=\u001b[39me\n\u001b[1;32m    175\u001b[0m     ) \u001b[38;5;28;01mfrom\u001b[39;00m \u001b[38;5;28mNone\u001b[39m\n",
      "\u001b[0;31mTrainingException\u001b[0m: TrainingException:\n\tMessage: Exception occurred while creating the HyperDrive run: [Operation returned an invalid status code 'udacity-project Error : User Error occured while deserializing input, JsonReaderException was thrown']. Please try again later.\n\tInnerException Operation returned an invalid status code 'udacity-project Error : User Error occured while deserializing input, JsonReaderException was thrown'\n\tErrorResponse \n{\n    \"error\": {\n        \"code\": \"SystemError\",\n        \"message\": \"Exception occurred while creating the HyperDrive run: [Operation returned an invalid status code 'udacity-project Error : User Error occured while deserializing input, JsonReaderException was thrown']. Please try again later.\",\n        \"inner_error\": {\n            \"code\": \"ClientError\",\n            \"inner_error\": {\n                \"code\": \"HyperDriveTrainingError\"\n            }\n        }\n    }\n}"
     ]
    }
   ],
   "source": [
    "from azureml.widgets import RunDetails\n",
    "from azureml.train.sklearn import SKLearn\n",
    "from azureml.train.hyperdrive.run import PrimaryMetricGoal\n",
    "from azureml.train.hyperdrive.policy import BanditPolicy\n",
    "from azureml.train.hyperdrive.sampling import RandomParameterSampling\n",
    "from azureml.train.hyperdrive.runconfig import HyperDriveConfig\n",
    "from azureml.train.hyperdrive.parameter_expressions import choice, uniform\n",
    "from azureml.core import Environment, ScriptRunConfig\n",
    "import os\n",
    "\n",
    "ps = RandomParameterSampling( {\n",
    "        \"first-layer-neurons\" : choice(25, 50, 200,300, 500),\n",
    "        \"second-layer-neurons\" : choice(25, 50, 200,300, 500),\n",
    "        \"learning_rate\": uniform(0.5, 1.0),\n",
    "        \"batch_size\": choice(25, 50, 100)\n",
    "    })\n",
    "\n",
    "policy = BanditPolicy(evaluation_interval=2, slack_factor=0.1)\n",
    "\n",
    "if \"training\" not in os.listdir():\n",
    "    os.mkdir(\"./training\")\n",
    "\n",
    "# Setup environment for your training run\n",
    "sklearn_env = Environment.from_conda_specification(name='sklearn-env', file_path='conda_dependencies.yml')\n",
    "\n",
    "src=ScriptRunConfig(source_directory=\"./\",  script=\"train.py\", arguments=\"--C 1.0 --max_iter 100\", run_config=None, _telemetry_values=None, compute_target=cpu_cluster, environment=sklearn_env, distributed_job_config=None, resume_from=None, max_run_duration_seconds=2592000, command=None, docker_runtime_config=None)\n",
    "\n",
    "hyperdrive_config  = HyperDriveConfig(hyperparameter_sampling = ps , primary_metric_name = \"Accuracy\", primary_metric_goal = PrimaryMetricGoal.MAXIMIZE, max_total_runs=20, max_concurrent_runs=2, max_duration_minutes=10080, policy=policy, estimator=None, run_config=src, resume_from=None, resume_child_runs=None, pipeline=None, debug_flag=None, custom_run_id=None)\n",
    "\n",
    "hdr= exp.submit(config=hyperdrive_config)\n",
    "\n",
    "RunDetails(hdr).show()\n"
   ]
  },
  {
   "cell_type": "code",
   "execution_count": null,
   "id": "026069cd",
   "metadata": {},
   "outputs": [],
   "source": []
  }
 ],
 "metadata": {
  "kernelspec": {
   "display_name": "Python 3.8 - AzureML",
   "language": "python",
   "name": "python38-azureml"
  },
  "language_info": {
   "codemirror_mode": {
    "name": "ipython",
    "version": 3
   },
   "file_extension": ".py",
   "mimetype": "text/x-python",
   "name": "python",
   "nbconvert_exporter": "python",
   "pygments_lexer": "ipython3",
   "version": "3.8.5"
  }
 },
 "nbformat": 4,
 "nbformat_minor": 5
}
